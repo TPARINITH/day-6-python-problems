{
 "cells": [
  {
   "cell_type": "code",
   "execution_count": 2,
   "metadata": {},
   "outputs": [
    {
     "name": "stdout",
     "output_type": "stream",
     "text": [
      "enter a valve5\n",
      "1\n",
      "2\n",
      "3\n",
      "4\n"
     ]
    }
   ],
   "source": [
    "n=int(input(\"enter a valve\"))\n",
    "def naturalnumber(n):\n",
    "    for i in range(1,n):\n",
    "     print(i)\n",
    "naturalnumber(n)"
   ]
  },
  {
   "cell_type": "markdown",
   "metadata": {},
   "source": [
    "#  SUM OF N NATURAL NUMBERS"
   ]
  },
  {
   "cell_type": "code",
   "execution_count": 17,
   "metadata": {},
   "outputs": [
    {
     "name": "stdout",
     "output_type": "stream",
     "text": [
      "enter a valve3\n",
      "23\n"
     ]
    }
   ],
   "source": [
    "n=int(input(\"enter a valve\"))\n",
    "def naturalnumber(n):\n",
    "    sum=0\n",
    "for i in range(1,n-1):\n",
    "    sum=sum+i \n",
    "print(sum)\n",
    "naturalnumber(n)"
   ]
  },
  {
   "cell_type": "code",
   "execution_count": 21,
   "metadata": {},
   "outputs": [
    {
     "name": "stdout",
     "output_type": "stream",
     "text": [
      "enter a valve3\n",
      "35\n"
     ]
    }
   ],
   "source": [
    "n=int(input(\"enter a valve\"))\n",
    "def naturalnumber(n):\n",
    "    sum=0\n",
    "for i in range(1,n+1):\n",
    "    sum=sum+i \n",
    "print(sum)\n",
    "naturalnumber(n)"
   ]
  },
  {
   "cell_type": "markdown",
   "metadata": {},
   "source": [
    "# multiplication table"
   ]
  },
  {
   "cell_type": "code",
   "execution_count": 31,
   "metadata": {},
   "outputs": [
    {
     "name": "stdout",
     "output_type": "stream",
     "text": [
      "enter end value21\n",
      "enter the table value2\n",
      "[]\n",
      "[2]\n",
      "[2]\n",
      "[2, 4]\n",
      "[2, 4]\n",
      "[2, 4, 6]\n",
      "[2, 4, 6]\n",
      "[2, 4, 6, 8]\n",
      "[2, 4, 6, 8]\n",
      "[2, 4, 6, 8, 10]\n",
      "[2, 4, 6, 8, 10]\n",
      "[2, 4, 6, 8, 10, 12]\n",
      "[2, 4, 6, 8, 10, 12]\n",
      "[2, 4, 6, 8, 10, 12, 14]\n",
      "[2, 4, 6, 8, 10, 12, 14]\n",
      "[2, 4, 6, 8, 10, 12, 14, 16]\n",
      "[2, 4, 6, 8, 10, 12, 14, 16]\n",
      "[2, 4, 6, 8, 10, 12, 14, 16, 18]\n",
      "[2, 4, 6, 8, 10, 12, 14, 16, 18]\n",
      "[2, 4, 6, 8, 10, 12, 14, 16, 18, 20]\n"
     ]
    }
   ],
   "source": [
    "li= []\n",
    "x=int(input(\"enter end value\"))\n",
    "n=int(input(\"enter the table value\"))\n",
    "def multiplicationTable(n):\n",
    "  for i in range(1,x):\n",
    "    if(i%n==0):\n",
    "     li.append(i)  \n",
    "    print(li)\n",
    "multiplicationTable(n)"
   ]
  },
  {
   "cell_type": "code",
   "execution_count": 46,
   "metadata": {},
   "outputs": [
    {
     "name": "stdout",
     "output_type": "stream",
     "text": [
      "enter end value20\n",
      "enter the table value2\n",
      "2\n",
      "4\n",
      "6\n",
      "8\n",
      "10\n",
      "12\n",
      "14\n",
      "16\n",
      "18\n",
      "20\n",
      "22\n",
      "24\n",
      "26\n",
      "28\n",
      "30\n",
      "32\n",
      "34\n",
      "36\n",
      "38\n"
     ]
    }
   ],
   "source": [
    "\n",
    "x=int(input(\"enter end value\"))\n",
    "n=int(input(\"enter the table value\"))\n",
    "def multiplicationTable(n):\n",
    "    l=1  \n",
    "#if(i%n==0):\n",
    "    for i in range(1,x):\n",
    "        l=i*n\n",
    "        print(l)\n",
    "multiplicationTable(n)"
   ]
  },
  {
   "cell_type": "markdown",
   "metadata": {},
   "source": [
    "# PROBLEM SOLVING PROGRAMMING\n",
    "DAY NO-\n",
    "DATE-\n",
    "DAY OBJECTIVES\n",
    "OBJECTIVE--1\n",
    "OBJECTIVE--2\n",
    "OBJECTIVE--3\n",
    "PROBLEM 1:\n",
    "PROBLEM STATEMENT\n",
    "test case 1\n",
    "test case 2\n",
    "test case 3"
   ]
  }
 ],
 "metadata": {
  "kernelspec": {
   "display_name": "Python 3",
   "language": "python",
   "name": "python3"
  },
  "language_info": {
   "codemirror_mode": {
    "name": "ipython",
    "version": 3
   },
   "file_extension": ".py",
   "mimetype": "text/x-python",
   "name": "python",
   "nbconvert_exporter": "python",
   "pygments_lexer": "ipython3",
   "version": "3.7.3"
  }
 },
 "nbformat": 4,
 "nbformat_minor": 2
}
