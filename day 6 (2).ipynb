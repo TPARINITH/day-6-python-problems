{
 "cells": [
  {
   "cell_type": "markdown",
   "metadata": {},
   "source": [
    "# PROBLEM SOLVING PROGRAMMING\n",
    "\n",
    "## DAY NO- 6\n",
    "\n",
    "## DATE- MAY 9-2019"
   ]
  },
  {
   "cell_type": "markdown",
   "metadata": {},
   "source": [
    "## DAY OBJECTIVES\n",
    "\n",
    "1. OBJECTIVE--1\n",
    "2. OBJECTIVE--2\n",
    "3. OBJECTIVE--3"
   ]
  },
  {
   "cell_type": "markdown",
   "metadata": {},
   "source": [
    "### PROBLEM 1:\n",
    "\n",
    "#### PROBLEM STATEMENT:   \n",
    "\n",
    "Given 2 int values, return True if one is negative and one is positive. Except if the parameter \"negative\" is True, then return True only if both are negative.\n"
   ]
  },
  {
   "cell_type": "markdown",
   "metadata": {},
   "source": [
    "* test case 1 :pos_neg(1, -1, False) → True\n",
    "* test case 2 :pos_neg(-1, 1, False) → True\n",
    "* test case 3 :pos_neg(-4, -5, True) → True\n",
    "* test case 4 :pos_neg(-1,  1, True) -> False\n",
    "* test case 5 :pos_neg(1,  6,  True) -> False\n",
    "* test case 4 :pos_neg(-1,-9, False) -> False"
   ]
  },
  {
   "cell_type": "markdown",
   "metadata": {},
   "source": [
    "### EXPLANATION:  "
   ]
  },
  {
   "cell_type": "code",
   "execution_count": 10,
   "metadata": {},
   "outputs": [
    {
     "name": "stdout",
     "output_type": "stream",
     "text": [
      "True\n",
      "True\n",
      "True\n",
      "False\n",
      "False\n",
      "False\n"
     ]
    }
   ],
   "source": [
    "def pos_neg(n1, n2, b):\n",
    "    return (n1 < 0 and n2 > 0 and b == False) or (n1 > 0 and n2 < 0 and b == False) or (n1 < 0 and n2 < 0 and b == True)\n",
    "       # return True\n",
    "    #else:\n",
    "     #   return False\n",
    "print(pos_neg(1,-1,False))\n",
    "print(pos_neg(-1, 1, False))\n",
    "print(pos_neg(-4, -5, True))\n",
    "print(pos_neg(-1,  1, True))\n",
    "print(pos_neg(1,  6,  True))\n",
    "print(pos_neg(-1,-9, False))"
   ]
  },
  {
   "cell_type": "code",
   "execution_count": 2,
   "metadata": {},
   "outputs": [
    {
     "name": "stdout",
     "output_type": "stream",
     "text": [
      "True\n",
      "True\n",
      "True\n",
      "False\n",
      "False\n",
      "False\n"
     ]
    }
   ],
   "source": [
    "def pos_neg(n1, n2, b):\n",
    "    if (n1 < 0 and n2 > 0 and b == False) or (n1 > 0 and n2 < 0 and b == False) or (n1 < 0 and n2 < 0 and b == True):\n",
    "        return True\n",
    "    else:\n",
    "        return False\n",
    "print(pos_neg(1,-1,False))\n",
    "print(pos_neg(-1, 1, False))\n",
    "print(pos_neg(-4, -5, True))\n",
    "print(pos_neg(-1,  1, True))# -> False\n",
    "print(pos_neg(1,  6,  True))#-> False\n",
    "print(pos_neg(-1,-9, False))#-> False\n"
   ]
  },
  {
   "cell_type": "markdown",
   "metadata": {},
   "source": [
    "# PROBLEM 2:\n",
    "\n",
    "#### PROBLEM STATEMENT:  \n",
    "Create a Random Number Generator as a Procedure which takes the Range(lb, ub) and returns a Random number in the given range\n",
    "\n",
    "\n",
    "\n",
    "#### Test Cases\n",
    " * RandomGenerator(l, 100) -> will be in range(1,100)"
   ]
  },
  {
   "cell_type": "code",
   "execution_count": 29,
   "metadata": {},
   "outputs": [
    {
     "data": {
      "text/plain": [
       "29"
      ]
     },
     "execution_count": 29,
     "metadata": {},
     "output_type": "execute_result"
    }
   ],
   "source": [
    "import random\n",
    "\n",
    "random.randrange(1, 101,2 )"
   ]
  },
  {
   "cell_type": "code",
   "execution_count": 31,
   "metadata": {},
   "outputs": [
    {
     "data": {
      "text/plain": [
       "96"
      ]
     },
     "execution_count": 31,
     "metadata": {},
     "output_type": "execute_result"
    }
   ],
   "source": [
    "import random\n",
    "\n",
    "def randomGenerator(lb, ub):\n",
    "    return random.randrange(lb+1, ub )\n",
    "randomGenerator(1,101)"
   ]
  },
  {
   "cell_type": "code",
   "execution_count": 33,
   "metadata": {},
   "outputs": [
    {
     "data": {
      "text/plain": [
       "70"
      ]
     },
     "execution_count": 33,
     "metadata": {},
     "output_type": "execute_result"
    }
   ],
   "source": [
    "\n",
    "import random\n",
    "\n",
    "def randomGenerator(lb, ub):\n",
    "    return random.randrange(lb+1, ub )\n",
    "randomGenerator(1,101)"
   ]
  },
  {
   "cell_type": "markdown",
   "metadata": {},
   "source": [
    "## PROBLEM 3:\n",
    "\n",
    "#### PROBLEM STATEMENT:     \n",
    "Design a procedure to perform Linear search on list of N unsorted numbers. It take an array and the key element to be searched and returns the index of the element of key element if found. Else returns -1\n",
    "\n",
    "#### TEST CASES\n",
    "\n",
    "* LinearSearch( a[5,4,3,2,1], 4) -> 2\n",
    "* LinearSearch( a[90, 123, 324, 21, 56], 22) -> -1.\n",
    "* LinearSearch([321, 542, 567, 789],567) -> 2"
   ]
  },
  {
   "cell_type": "code",
   "execution_count": 69,
   "metadata": {},
   "outputs": [
    {
     "name": "stdout",
     "output_type": "stream",
     "text": [
      "enter the key value6\n",
      "-1\n"
     ]
    }
   ],
   "source": [
    "a = [5,4,3,2,1]\n",
    "key=int(input(\"enter the key value\"))\n",
    "def LinearSearch(a,key):\n",
    "    for i in range(0, len(a)):\n",
    "            if(a[i]==key):\n",
    "                return i\n",
    "    return -1\n",
    "\n",
    "print(LinearSearch(a,key))"
   ]
  },
  {
   "cell_type": "markdown",
   "metadata": {},
   "source": [
    "# ## PROBLEM 3:\n",
    "\n",
    "#### PROBLEM STATEMENT:  \n",
    "\n",
    "PALINDROME:\n",
    "\n",
    "### TEST CASES\n",
    "\n",
    "* Palindrome(\"racecar\") -> True.\n",
    "* Palindrome(\"raptor\") -> False."
   ]
  },
  {
   "cell_type": "code",
   "execution_count": 79,
   "metadata": {},
   "outputs": [
    {
     "name": "stdout",
     "output_type": "stream",
     "text": [
      "enter wordmadam\n",
      "True\n"
     ]
    }
   ],
   "source": [
    "a=input(\"enter word\")\n",
    "def reverse(a):\n",
    "    return a[::-1]\n",
    "def palindrome(a):\n",
    "    if(a==reverse(a)):\n",
    "        print(\"True\")\n",
    "    else:\n",
    "        print(\"False\")\n",
    "palindrome(a)"
   ]
  },
  {
   "cell_type": "markdown",
   "metadata": {},
   "source": [
    "# ## PROBLEM 3:\n",
    "\n",
    "#### PROBLEM STATEMENT:\n",
    "\n",
    "\n",
    "Given 2 ints, a and b, return True if one if them is 10 or if their sum is 10.\n",
    "\n",
    "### TEST CASES\n",
    "\n",
    "* makes10(9, 10) → True\n",
    "* makes10(9, 9) → False\n",
    "* makes10(1, 9) → True"
   ]
  },
  {
   "cell_type": "code",
   "execution_count": 85,
   "metadata": {},
   "outputs": [
    {
     "name": "stdout",
     "output_type": "stream",
     "text": [
      "enter a10\n",
      "enter b3\n",
      "True\n"
     ]
    }
   ],
   "source": [
    "a=int(input(\"enter a\"))\n",
    "b=int(input(\"enter b\"))\n",
    "def problem(a,b):\n",
    "    if(a==10 or b==10 or a+b==10):\n",
    "        print(\"True\")\n",
    "    else:\n",
    "        print(\"False\")\n",
    "problem(a,b)\n"
   ]
  },
  {
   "cell_type": "markdown",
   "metadata": {},
   "source": [
    "# # ## PROBLEM 3:\n",
    "\n",
    "#### PROBLEM STATEMENT:\n",
    "\n",
    "\n",
    "Design a procedure calculate the maximum, minimum and average of N numbers\n",
    "\n",
    "### TEST CASES\n",
    "\n",
    "\n",
    "* data( a[1,2,3,4,5] ) -> Max = 5, Min = 1, Avg = 3"
   ]
  },
  {
   "cell_type": "code",
   "execution_count": 102,
   "metadata": {},
   "outputs": [
    {
     "name": "stdout",
     "output_type": "stream",
     "text": [
      "2\n",
      "0.4\n",
      "5\n",
      "1.0\n",
      "9\n",
      "1.8\n",
      "14\n",
      "2.8\n"
     ]
    },
    {
     "ename": "IndexError",
     "evalue": "list index out of range",
     "output_type": "error",
     "traceback": [
      "\u001b[1;31m---------------------------------------------------------------------------\u001b[0m",
      "\u001b[1;31mIndexError\u001b[0m                                Traceback (most recent call last)",
      "\u001b[1;32m<ipython-input-102-8a8184e99ee5>\u001b[0m in \u001b[0;36m<module>\u001b[1;34m\u001b[0m\n\u001b[0;32m      6\u001b[0m         \u001b[0mprint\u001b[0m\u001b[1;33m(\u001b[0m\u001b[0msum\u001b[0m\u001b[1;33m)\u001b[0m\u001b[1;33m\u001b[0m\u001b[1;33m\u001b[0m\u001b[0m\n\u001b[0;32m      7\u001b[0m         \u001b[0mprint\u001b[0m\u001b[1;33m(\u001b[0m\u001b[0msum\u001b[0m\u001b[1;33m/\u001b[0m\u001b[0mlen\u001b[0m\u001b[1;33m(\u001b[0m\u001b[0ma\u001b[0m\u001b[1;33m)\u001b[0m\u001b[1;33m)\u001b[0m\u001b[1;33m\u001b[0m\u001b[1;33m\u001b[0m\u001b[0m\n\u001b[1;32m----> 8\u001b[1;33m \u001b[0mavg\u001b[0m\u001b[1;33m(\u001b[0m\u001b[0ma\u001b[0m\u001b[1;33m)\u001b[0m\u001b[1;33m\u001b[0m\u001b[1;33m\u001b[0m\u001b[0m\n\u001b[0m\u001b[0;32m      9\u001b[0m \u001b[1;33m\u001b[0m\u001b[0m\n",
      "\u001b[1;32m<ipython-input-102-8a8184e99ee5>\u001b[0m in \u001b[0;36mavg\u001b[1;34m(a)\u001b[0m\n\u001b[0;32m      3\u001b[0m     \u001b[0msum\u001b[0m\u001b[1;33m=\u001b[0m\u001b[1;36m0\u001b[0m\u001b[1;33m\u001b[0m\u001b[1;33m\u001b[0m\u001b[0m\n\u001b[0;32m      4\u001b[0m     \u001b[1;32mfor\u001b[0m \u001b[0mi\u001b[0m \u001b[1;32min\u001b[0m \u001b[0ma\u001b[0m\u001b[1;33m:\u001b[0m\u001b[1;33m\u001b[0m\u001b[1;33m\u001b[0m\u001b[0m\n\u001b[1;32m----> 5\u001b[1;33m         \u001b[0msum\u001b[0m \u001b[1;33m=\u001b[0m \u001b[0msum\u001b[0m \u001b[1;33m+\u001b[0m \u001b[0ma\u001b[0m\u001b[1;33m[\u001b[0m\u001b[0mi\u001b[0m\u001b[1;33m]\u001b[0m\u001b[1;33m\u001b[0m\u001b[1;33m\u001b[0m\u001b[0m\n\u001b[0m\u001b[0;32m      6\u001b[0m         \u001b[0mprint\u001b[0m\u001b[1;33m(\u001b[0m\u001b[0msum\u001b[0m\u001b[1;33m)\u001b[0m\u001b[1;33m\u001b[0m\u001b[1;33m\u001b[0m\u001b[0m\n\u001b[0;32m      7\u001b[0m         \u001b[0mprint\u001b[0m\u001b[1;33m(\u001b[0m\u001b[0msum\u001b[0m\u001b[1;33m/\u001b[0m\u001b[0mlen\u001b[0m\u001b[1;33m(\u001b[0m\u001b[0ma\u001b[0m\u001b[1;33m)\u001b[0m\u001b[1;33m)\u001b[0m\u001b[1;33m\u001b[0m\u001b[1;33m\u001b[0m\u001b[0m\n",
      "\u001b[1;31mIndexError\u001b[0m: list index out of range"
     ]
    }
   ],
   "source": [
    "a = [1,2,3,4,5]\n",
    "def avg(a):\n",
    "    sum=0 \n",
    "    for i in a:\n",
    "        sum = sum + a[i]\n",
    "        print(sum)\n",
    "        print(sum/len(a))\n",
    "avg(a)\n",
    "\n"
   ]
  },
  {
   "cell_type": "code",
   "execution_count": 134,
   "metadata": {},
   "outputs": [
    {
     "name": "stdout",
     "output_type": "stream",
     "text": [
      "45.4\n",
      "92\n",
      "[3, 11, 46, 75, 92]\n",
      "3\n"
     ]
    }
   ],
   "source": [
    "a = [11,92,3,46,75]\n",
    "sum(a)\n",
    "avg = (sum(a))/(len(a)) \n",
    "print(avg)\n",
    "print(max(a))\n",
    "print(sorted(a))\n",
    "print(min(a))"
   ]
  },
  {
   "cell_type": "code",
   "execution_count": null,
   "metadata": {},
   "outputs": [],
   "source": [
    "num = int(input(\"enter the number\"))\n",
    "  \n",
    "# If given number is greater than 1 \n",
    "if num > 1: \n",
    "      \n",
    "   # Iterate from 2 to n / 2  \n",
    "   for i in range(2, num//2): \n",
    "         \n",
    "       # If num is divisible by any number between  \n",
    "       # 2 and n / 2, it is not prime  \n",
    "    if (num % i) == 0: \n",
    "        print(num, \"is not a prime number\") \n",
    "        break\n",
    "    else: \n",
    "        print(num, \"is a prime number\") \n",
    "        break\n",
    "else: \n",
    "    \n",
    "            print(num, \"is not a prime number\")"
   ]
  },
  {
   "cell_type": "markdown",
   "metadata": {},
   "source": [
    "# # ## PROBLEM 3:\n",
    "\n",
    "#### PROBLEM STATEMENT:\n",
    "\n",
    "\n",
    "* prime number"
   ]
  },
  {
   "cell_type": "code",
   "execution_count": 1,
   "metadata": {},
   "outputs": [
    {
     "name": "stdout",
     "output_type": "stream",
     "text": [
      "enter the number10407\n",
      "10407 is a prime number\n"
     ]
    }
   ],
   "source": [
    "num = int(input(\"enter the number\"))\n",
    "  \n",
    "# If given number is greater than 1 \n",
    "if num > 1: \n",
    "      \n",
    "   # Iterate from 2 to n / 2  \n",
    "   for i in range(2, num//2): \n",
    "         \n",
    "       # If num is divisible by any number between  \n",
    "       # 2 and n / 2, it is not prime  \n",
    "    if (num % i) == 0: \n",
    "        print(num, \"is not a prime number\") \n",
    "        break\n",
    "    else: \n",
    "        print(num, \"is a prime number\") \n",
    "        break\n",
    "else: \n",
    "    \n",
    "            print(num, \"is not a prime number\")"
   ]
  },
  {
   "cell_type": "code",
   "execution_count": null,
   "metadata": {},
   "outputs": [],
   "source": []
  }
 ],
 "metadata": {
  "kernelspec": {
   "display_name": "Python 3",
   "language": "python",
   "name": "python3"
  },
  "language_info": {
   "codemirror_mode": {
    "name": "ipython",
    "version": 3
   },
   "file_extension": ".py",
   "mimetype": "text/x-python",
   "name": "python",
   "nbconvert_exporter": "python",
   "pygments_lexer": "ipython3",
   "version": "3.7.3"
  }
 },
 "nbformat": 4,
 "nbformat_minor": 2
}
